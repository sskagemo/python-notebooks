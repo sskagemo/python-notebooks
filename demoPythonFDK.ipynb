{
 "cells": [
  {
   "cell_type": "markdown",
   "metadata": {},
   "source": [
    "# Slik kan du bruke Felles datakatalog med Python\n",
    "Etter litt privat \"Summer of Code\" med mobiltelefonen, et eksternt tastatur og e-boka [\"Head First Python\"](https://books.google.no/books?id=WYqNDQAAQBAJ&lpg=PP1&hl=no&pg=PP1#v=onepage&q&f=false) har jeg lyst å snikskryte litt ved å vise fire ting jeg synes er veldig kule:\n",
    "\n",
    "1) Programmeringsspråket Python,\n",
    "2) Python Notebook,\n",
    "3) [Felles datakatalog](https://fellesdatakatalog.brreg.no)\n",
    "4) API-et for åpne data fra Enhetsregisteret"
   ]
  },
  {
   "cell_type": "markdown",
   "metadata": {},
   "source": [
    "## 1. Programmeringsspråket Python\n",
    "Som alle sikkert har fått med seg er det mye snakk om at kidsa må kode. Kodetimen bidrar til at mange barn får en viss erfaring med at det er mulig å styre \"magien\" i datamaskinene. Istedenfor å kun spille spill, kan de også __lage__ spill. Så hvis dette er viktig og riktig for kidsa, så mener jeg det også er riktig for vi som kaller oss digitaliseringsbyråkrater (eller noe tilsvarende sexy). Men hvordan kommer man igang? En mulighet er å starte med Python. Her. Og. Nå.\n",
    "\n",
    "Klikk i cellen nedenfor og skriv inn navnet ditt. Og trykk på \"play\"-knappen øverst eller hold skift-knappen inne mens du trykker enter:"
   ]
  },
  {
   "cell_type": "code",
   "execution_count": null,
   "metadata": {
    "collapsed": false
   },
   "outputs": [],
   "source": [
    "navn = \"[Skriv navnet ditt her]\"\n",
    "print(navn)"
   ]
  },
  {
   "cell_type": "markdown",
   "metadata": {},
   "source": [
    "Hvis du ikke fikk en feilmelding så har variabelen \"navn\" nå navnet ditt som sin verdi. Da kan vi telle hvor langt navnet er, skrive det baklengs, finne vokaler osv:"
   ]
  },
  {
   "cell_type": "code",
   "execution_count": null,
   "metadata": {
    "collapsed": false
   },
   "outputs": [],
   "source": [
    "len(navn) # teller antall tegn"
   ]
  },
  {
   "cell_type": "code",
   "execution_count": null,
   "metadata": {
    "collapsed": false
   },
   "outputs": [],
   "source": [
    "for b in navn[-1::-1]: # starter bakerst og skriver ut bokstavene\n",
    "    print(b, end=\"\")"
   ]
  },
  {
   "cell_type": "code",
   "execution_count": null,
   "metadata": {
    "collapsed": false
   },
   "outputs": [],
   "source": [
    "set(navn) & set('aeiouyæøå') # finner vokalene i navnet ditt ved å se på snittet mellom de to bokstavmengdene"
   ]
  },
  {
   "cell_type": "code",
   "execution_count": null,
   "metadata": {
    "collapsed": false
   },
   "outputs": [],
   "source": [
    "navn.isupper() # Har du skrevet navnet ditt med bare store bokstaver?"
   ]
  },
  {
   "cell_type": "markdown",
   "metadata": {},
   "source": [
    "## 2. Python Notebook\n",
    "(eller Jupyter som jeg tror det heter nå)\n",
    "I eksemplene over har du brukt programmeringsspråket Python. Tradisjonelt krever programmering at det installeres verktøy for å redigere og kjøre programkoden på PC-en. Det trenger ikke å være komplisert, og er vel verdt innsatsen hvis man har lyst til å lære programmering. Men jeg synes det er superpraktisk at det også er mulig å komme igang i en slik \"notebook\" som du bruker nå. \n",
    "\n",
    "Du er ikke begrenset av den koden jeg har skrevet inn, men kan legge mer kode og prøve deg frem. Ved å bruke kommandoen dir(navn) får du opp en liste ting variabelen \"navn\" kan gjøre. Deretter kan du be om hjelp for de ulike funksjonene. F.eks. å endre fra små til store bokstaver, og motsatt. Prøv f.eks. swapcase. (Husk at du må bruke punktum mellom navn og funksjonsnavnet på samme måte som navn.isupper() i det siste eksempelet over.)"
   ]
  },
  {
   "cell_type": "code",
   "execution_count": null,
   "metadata": {
    "collapsed": false
   },
   "outputs": [],
   "source": [
    "dir(navn)"
   ]
  },
  {
   "cell_type": "code",
   "execution_count": null,
   "metadata": {
    "collapsed": false
   },
   "outputs": [],
   "source": [
    "help(navn.swapcase)"
   ]
  },
  {
   "cell_type": "code",
   "execution_count": null,
   "metadata": {
    "collapsed": true
   },
   "outputs": [],
   "source": [
    "# Prøv deg frem selv her (eller et annet sted), f.eks. navn.swapcase()"
   ]
  },
  {
   "cell_type": "markdown",
   "metadata": {},
   "source": [
    "# 3. Felles datakatalog\n",
    "Innrømmelse: Jeg jobber i Brønnøysundregistrene med Felles datakatalog, så jeg er selvsagt ikke helt objektiv ...\n",
    "\n",
    "Felles datakatalog inneholder blant annet en API-katalog. Og Felles datakatalog har (naturligvis!) også et API. Og API-er er laget for at maskiner skal kunne samhandle. Så la oss bruke Python til å snakke med Felles datakatalog som maskiner gjør det, fremfor å gå med nettleseren til datakatalogen bruke det mennesketilpassede grensesnittet.\n",
    "\n",
    "NB! Husk at du må kjøre cellene nedenfor en etter en, for det som skjer i en celle er avhengig av det som har skjedd i cellene før."
   ]
  },
  {
   "cell_type": "code",
   "execution_count": null,
   "metadata": {
    "collapsed": true
   },
   "outputs": [],
   "source": [
    "import requests # requests er et superpopulært tillegg til Python som gjør det enkelt å sende forespørsler til andre servere"
   ]
  },
  {
   "cell_type": "code",
   "execution_count": null,
   "metadata": {
    "collapsed": false
   },
   "outputs": [],
   "source": [
    "headers = { 'Accept': 'application/json'} # vi vil snakke slik moderne maskiner snakker sammen, med JSON\n",
    "base_url = 'https://fellesdatakatalog.brreg.no/api/apis' # dette er adressen til API-et til API-katalogen ..."
   ]
  },
  {
   "cell_type": "markdown",
   "metadata": {},
   "source": [
    "Da har vi en adresse å sende en forespørsel til (base_url) og en spesifikasjon av hvordan vi vil ha svaret på forespørselen. Vi må i tillegg lagre svaret slik at vi kan bruke det videre."
   ]
  },
  {
   "cell_type": "code",
   "execution_count": null,
   "metadata": {
    "collapsed": false
   },
   "outputs": [],
   "source": [
    "r = requests.get(base_url, headers = headers) # Svaret på forespørselen lagres i variabelen r"
   ]
  },
  {
   "cell_type": "code",
   "execution_count": null,
   "metadata": {
    "collapsed": false
   },
   "outputs": [],
   "source": [
    "r.status_code # statuskoden bør være 200 -- som er koden for suksess i http"
   ]
  },
  {
   "cell_type": "code",
   "execution_count": null,
   "metadata": {
    "collapsed": false
   },
   "outputs": [],
   "source": [
    "r.headers['content-type'] # vi kan sjekke om vi fikk JSON"
   ]
  },
  {
   "cell_type": "code",
   "execution_count": null,
   "metadata": {
    "collapsed": false
   },
   "outputs": [],
   "source": [
    "r.json() # og se på det vi fikk (NB! her kommer det (forhåpentligvis ...) mye ut)"
   ]
  },
  {
   "cell_type": "markdown",
   "metadata": {},
   "source": [
    "Over har vi fått listet innholdet på den første siden av API-katalogen. La oss søke etter et konkret API, nemlig API-et til åpne data fra Enhetsregisteret. Det gjør vi ved å legge søkeordet i variabelen s, og lage en ny adresse som inneholder søkeordet som et spørreparameter:"
   ]
  },
  {
   "cell_type": "code",
   "execution_count": null,
   "metadata": {
    "collapsed": false
   },
   "outputs": [],
   "source": [
    "s = 'enhetsregisteret' \n",
    "r = requests.get(base_url + '?q=' + s, headers = { 'Accept': 'application/json'})\n",
    "r.status_code"
   ]
  },
  {
   "cell_type": "markdown",
   "metadata": {},
   "source": [
    "Hvis du fikk '200' over, var forespørselen vellykket, og vi har fått data lagret i r. Vi ser på resultatet:"
   ]
  },
  {
   "cell_type": "code",
   "execution_count": null,
   "metadata": {
    "collapsed": false
   },
   "outputs": [],
   "source": [
    "r.json()"
   ]
  },
  {
   "cell_type": "markdown",
   "metadata": {},
   "source": [
    "Enhetsregisteret er omtalt i to API-beskrivelser. Det første treffet er det vi ønsker oss og for å referere til den beskrivelsen må vi se på den delen av svaret som handler om \"hits\", og velge den første av de to. Og i programmeringsspråk er den første nummer 0 (slik 1. etasje er \"nullte etasje\" i andre land). I Python blir det sånn:"
   ]
  },
  {
   "cell_type": "code",
   "execution_count": null,
   "metadata": {
    "collapsed": false
   },
   "outputs": [],
   "source": [
    "r.json()['hits'][0]"
   ]
  },
  {
   "cell_type": "markdown",
   "metadata": {},
   "source": [
    "Over har vi deler av informasjonen som vises i Felles datakatalog om API-et \"Åpne data fra Enhetsregisteret\". Du kan se det i nettleseren her: https://fellesdatakatalog.brreg.no/apis/3b88f2d7-8531-4e5c-a0a0-e22ff96221df\n",
    "Hvis vi vil snakke med API-et for Åpne data fra Enhetsregisteret \"maskin til maskin\", så trenger vi å vite flere tekniske detaljer, som adressen til serveren og hvilke kall man kan gjøre til API-et og formen på disse. Den tekniske spesifikasjonen av API-et får man ved å legge til id-en for det API-et man er interessert i, samt '/spec' til adressen til API-katalogen."
   ]
  },
  {
   "cell_type": "code",
   "execution_count": null,
   "metadata": {
    "collapsed": false
   },
   "outputs": [],
   "source": [
    "r.json()['hits'][0]['id'] # hente ut id-en til API-beskrivelsen over"
   ]
  },
  {
   "cell_type": "markdown",
   "metadata": {},
   "source": [
    "Tidligere lagret vi url-en til API-katalogen i base_url, så nå kan vi sette bitene sammen:"
   ]
  },
  {
   "cell_type": "code",
   "execution_count": null,
   "metadata": {
    "collapsed": false
   },
   "outputs": [],
   "source": [
    "spec_url = base_url + '/' + r.json()['hits'][0]['id'] + '/spec'\n",
    "print(spec_url)"
   ]
  },
  {
   "cell_type": "markdown",
   "metadata": {},
   "source": [
    "Da kan vi hente spesifikasjonsfilen:"
   ]
  },
  {
   "cell_type": "code",
   "execution_count": null,
   "metadata": {
    "collapsed": true
   },
   "outputs": [],
   "source": [
    "spec = requests.get(spec_url, headers = { 'Accept': 'application/json'})"
   ]
  },
  {
   "cell_type": "code",
   "execution_count": null,
   "metadata": {
    "collapsed": false
   },
   "outputs": [],
   "source": [
    "spec.json()"
   ]
  },
  {
   "cell_type": "markdown",
   "metadata": {},
   "source": [
    "## 4. Åpne data fra Enhetsregisteret\n",
    "Enhetsregisteret er den autoritative kilden til opplysninger om enheter (bedrifter, statlige og kommunale virksomheter osv) i Norge. I motsetning til i mange andre land er mange av disse opplysningene gjort tilgjengelige som åpne data, og gjennom et moderne API. Så nå kan vi bruke informasjon fra spesifikasjonen vi lastet ned over til å gjøre en forespørsel om f.eks. Equinor ASA, som har organisasjonsnummer 923609016, og se hvilken næringskode de har -- det vil si hva som er deres primære aktivitet.\n",
    "\n",
    "Fra spesifikasjonen vi lastet ned over finner jeg adressen til serveren for API-et og hvordan jeg skal utforme en forespørsel:"
   ]
  },
  {
   "cell_type": "code",
   "execution_count": null,
   "metadata": {
    "collapsed": false
   },
   "outputs": [],
   "source": [
    "enhet_url = spec.json()['servers'][0]['url'] + '/enheter/923609016'\n",
    "print(enhet_url)"
   ]
  },
  {
   "cell_type": "code",
   "execution_count": null,
   "metadata": {
    "collapsed": true
   },
   "outputs": [],
   "source": [
    "enhet = requests.get(enhet_url, headers=headers) # sender forespørsel og lagrer resultatet i variabelen 'enhet'"
   ]
  },
  {
   "cell_type": "code",
   "execution_count": null,
   "metadata": {
    "collapsed": false
   },
   "outputs": [],
   "source": [
    "enhet.status_code # suksess?"
   ]
  },
  {
   "cell_type": "code",
   "execution_count": null,
   "metadata": {
    "collapsed": false
   },
   "outputs": [],
   "source": [
    "enhet.json() # Hva har vi fått?"
   ]
  },
  {
   "cell_type": "code",
   "execution_count": null,
   "metadata": {
    "collapsed": false
   },
   "outputs": [],
   "source": [
    "enhet.json()['naeringskode1'] # Hva driver Equinor med?"
   ]
  },
  {
   "cell_type": "markdown",
   "metadata": {},
   "source": [
    "Felles datakatalog kan også gi en liste over servere (endepunkter) som implementerer det samme API-et. Dette er f.eks. tilfelle der alle bankene har blitt enige om et standard API for å tilgjengeliggjøre informasjon om saldo."
   ]
  },
  {
   "cell_type": "code",
   "execution_count": 215,
   "metadata": {
    "collapsed": false
   },
   "outputs": [
    {
     "name": "stdout",
     "output_type": "stream",
     "text": [
      "{'total': 0, 'endpoints': []}\n"
     ]
    }
   ],
   "source": [
    "saldo_endepunkt = requests.get('https://demo.fellesdatakatalog.brreg.no/api/apis/endpoints?serviceType=Kontoopplysninger', headers=headers)\n",
    "print(saldo_endepunkt.json())"
   ]
  }
 ],
 "metadata": {
  "kernelspec": {
   "display_name": "Python 3.5",
   "language": "python",
   "name": "python3.5"
  },
  "language_info": {
   "codemirror_mode": {
    "name": "ipython",
    "version": 3
   },
   "file_extension": ".py",
   "mimetype": "text/x-python",
   "name": "python",
   "nbconvert_exporter": "python",
   "pygments_lexer": "ipython3",
   "version": "3.5.2"
  }
 },
 "nbformat": 4,
 "nbformat_minor": 0
}
